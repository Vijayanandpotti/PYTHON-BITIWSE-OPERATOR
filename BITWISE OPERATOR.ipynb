{
 "cells": [
  {
   "cell_type": "markdown",
   "id": "0047d55b-e6df-4b70-bc0b-93ed7a466ba7",
   "metadata": {},
   "source": [
    "# BITWISE OPERATOR"
   ]
  },
  {
   "cell_type": "code",
   "execution_count": null,
   "id": "b4be149c-19d5-4d1d-9fa6-5bcaf9f8b6e7",
   "metadata": {},
   "outputs": [],
   "source": [
    "The follwoing are the bit wise operators\n",
    "\n",
    "    NAME           SYMBOL\n",
    "\n",
    "1. Compliment       ~\n",
    "\n",
    "2. And              &\n",
    "\n",
    "3. OR               |\n",
    "\n",
    "4. XOR              ^\n",
    "\n",
    "5. LEFT SHIFT       << \n",
    "\n",
    "6. RIHT SHIFT        >>"
   ]
  },
  {
   "cell_type": "markdown",
   "id": "591e69d9-b4c7-4e07-8a6f-c4a38f95b68b",
   "metadata": {},
   "source": [
    "# COMPLIMENT    ~"
   ]
  },
  {
   "cell_type": "code",
   "execution_count": null,
   "id": "988f23c3-0e2a-442c-afc7-7b621d980de5",
   "metadata": {},
   "outputs": [],
   "source": [
    "1. Compliment means it will do reverse of the binary format.\n",
    "\n",
    "2. it means if the result is 0, compliment will give you the the output as 1.\n",
    "\n",
    "3. in virtual memory it cannot store negative number, that is why\n",
    "   we use compliment.\n"
   ]
  },
  {
   "cell_type": "code",
   "execution_count": 1,
   "id": "0bafe436-2675-4d5a-aab5-c944ebe8210b",
   "metadata": {},
   "outputs": [
    {
     "name": "stdout",
     "output_type": "stream",
     "text": [
      "0b1100\n",
      "0b1101\n"
     ]
    }
   ],
   "source": [
    "print(bin(12))\n",
    "print(bin(13))"
   ]
  },
  {
   "cell_type": "code",
   "execution_count": null,
   "id": "0f7393a2-a900-40aa-853d-d6b6a401111c",
   "metadata": {},
   "outputs": [],
   "source": [
    "1. The above output is calculated like below\n",
    "2. bin means binary. \n",
    "3. Binary base value is 2"
   ]
  },
  {
   "cell_type": "code",
   "execution_count": null,
   "id": "4e08e4a9-f889-4353-841f-4561f15f5515",
   "metadata": {},
   "outputs": [],
   "source": [
    " we need to divide 12 with 2\n",
    " we need ti divibe 13 with 2\n",
    "\n",
    "      2|12|\n",
    "        06| 0 (6 into 2 is 12 so the reminder is 0)    1st reminder\n",
    "        03| 0 (3 into 2 is 06 so the reminder is 0)    2nd reminder\n",
    "        01| 1 (1 into 2 is 02 so the reminder is 1)    3rd reminder\n",
    "        01| 1 (1 is taken as the last reminder is 1)     4th reminder\n",
    "\n",
    "     Hence the out put is  =  1100 \n",
    "(\"set the value order from last remninder to first reminder\")\n",
    "     since its binary division the result will be = 0b1100\n",
    "\n",
    "\n",
    "\n",
    "      2|13|\n",
    "        06| 0 (6 into 2 is 12 so the reminder is 1)    1st reminder\n",
    "        03| 0 (3 into 2 is 06 so the reminder is 0)    2nd reminder\n",
    "        01| 1 (1 into 2 is 02 so the reminder is 1)    3rd reminder\n",
    "        01| 1 (1 is taken as the last reminder is 1)    4th reminder\n",
    "\n",
    "     Hence the out put is  =  1101\n",
    " (\"set the value order from last remninder to first reminder\")\n",
    "     since its binary division the result will be = 0b1101\n",
    "\n",
    "         "
   ]
  },
  {
   "cell_type": "code",
   "execution_count": 9,
   "id": "fa8e773a-c8fc-41da-a2de-670e35409c18",
   "metadata": {},
   "outputs": [
    {
     "data": {
      "text/plain": [
       "12"
      ]
     },
     "execution_count": 9,
     "metadata": {},
     "output_type": "execute_result"
    }
   ],
   "source": [
    "0b1100\n"
   ]
  },
  {
   "cell_type": "code",
   "execution_count": null,
   "id": "969c9ec1-6d34-4f38-a81e-27b65d5893d3",
   "metadata": {},
   "outputs": [],
   "source": [
    "1. The above result showing as 12 below is the calculation\n",
    "\n",
    "0b1100 :  (1 is replace by 2^0) \n",
    "          (1 is replaced by 2^1 )   \n",
    "          ( 0 is replaced by  2^2) \n",
    "           (0 is replaced by 2^3)\n",
    "\n",
    "       : (1*2^3)  + (1*2^2 )  +  (0*2^1)  +   (0*2^0) \n",
    "\n",
    "       :   8      +    4   +     0        +       0    = 12\n",
    "\n",
    "    \"Hence the result is 12\"\n",
    "\n"
   ]
  },
  {
   "cell_type": "code",
   "execution_count": 10,
   "id": "8eb9995c-6126-4b8a-ae78-b454a3732cdb",
   "metadata": {},
   "outputs": [
    {
     "data": {
      "text/plain": [
       "13"
      ]
     },
     "execution_count": 10,
     "metadata": {},
     "output_type": "execute_result"
    }
   ],
   "source": [
    "0b1101"
   ]
  },
  {
   "cell_type": "code",
   "execution_count": null,
   "id": "744e70c1-50aa-44a2-82c8-49b2f25490b9",
   "metadata": {},
   "outputs": [],
   "source": [
    "1. The above result showing as 13 below is the calculation\n",
    "\n",
    "0b1101 :  (1 is replace by 2^0)  \n",
    "          (1 is replaced by 2^1 )  \n",
    "          ( 0 is replaced by  2^2)  \n",
    "          (1 is replaced by 2^3)\n",
    "\n",
    "       :  (1*2^3) + (1*2^2 ) + (0*2^1) + (1*2^0) \n",
    "\n",
    "       :     8    +    4     +   0     +    1  = 13\n",
    "\n",
    "   \" Hence the result is 13\""
   ]
  },
  {
   "cell_type": "code",
   "execution_count": 11,
   "id": "cc6e4ec6-9c8c-405d-9727-02756a745446",
   "metadata": {},
   "outputs": [
    {
     "data": {
      "text/plain": [
       "-13"
      ]
     },
     "execution_count": 11,
     "metadata": {},
     "output_type": "execute_result"
    }
   ],
   "source": [
    "~ 12"
   ]
  },
  {
   "cell_type": "code",
   "execution_count": 12,
   "id": "1a781bc8-3b10-4a9a-bb42-4eab84894116",
   "metadata": {},
   "outputs": [
    {
     "data": {
      "text/plain": [
       "-47"
      ]
     },
     "execution_count": 12,
     "metadata": {},
     "output_type": "execute_result"
    }
   ],
   "source": [
    "~ 46"
   ]
  },
  {
   "cell_type": "code",
   "execution_count": null,
   "id": "8645f621-5b03-4474-a426-f7c2239d6b17",
   "metadata": {},
   "outputs": [],
   "source": [
    "1. The thumb rule of compliment is always we need to add + 1\n",
    "\n",
    "See the calculation:\n",
    "\n",
    "13 binary number is  1101\n",
    "\n",
    "\n",
    "Let to right\n",
    "compliment of 1 is 0\n",
    "compliment of 1 is 0\n",
    "compliment of 0 is 1\n",
    "compliment of 1 is 0\n",
    "\n",
    "                               binnary number    1101\n",
    "                             Compliment number   0010\n",
    "                                                 0011\n",
    "\n",
    "0011 : (1*2^3)+(1*2^2)+(0*2^1)+(0*2^0)\n",
    "     :   8    +   4   +   0   +  0\n",
    "\n",
    "    Hence the result is 12\n",
    "    add plus             1  \n",
    "                     =  13\n",
    "\n",
    "\n"
   ]
  },
  {
   "cell_type": "markdown",
   "id": "d9782972-01a9-4532-947a-3573a824e09d",
   "metadata": {},
   "source": [
    "#  AND  &"
   ]
  },
  {
   "attachments": {
    "be26dc04-c1f1-49cb-953e-2ee23915f50e.png": {
     "image/png": "[encoded data removed]"
    }
   },
   "cell_type": "markdown",
   "id": "ad8c00b8-6b4f-4958-b057-aa38804fe80d",
   "metadata": {},
   "source": [
    "![image.png](attachment:be26dc04-c1f1-49cb-953e-2ee23915f50e.png)"
   ]
  },
  {
   "cell_type": "code",
   "execution_count": null,
   "id": "08adc4af-dbc7-40ed-8d14-d3bf1af5f8b2",
   "metadata": {},
   "outputs": [],
   "source": [
    "1. The above image shows the truth table"
   ]
  },
  {
   "cell_type": "code",
   "execution_count": 15,
   "id": "7fdfd713-ecbc-43ea-bdf5-b93bcf9b7722",
   "metadata": {},
   "outputs": [
    {
     "data": {
      "text/plain": [
       "12"
      ]
     },
     "execution_count": 15,
     "metadata": {},
     "output_type": "execute_result"
    }
   ],
   "source": [
    "12 & 13"
   ]
  },
  {
   "cell_type": "code",
   "execution_count": null,
   "id": "066cc1da-03dd-401a-93e5-4e5a2e4cf706",
   "metadata": {},
   "outputs": [],
   "source": [
    "The above output shows 12 as as a result, see the calculation below\n",
    "\n",
    "binary of 12 is           1100\n",
    "binary of 13 is           1101\n",
    "\n",
    "truth table (REF:AND)     1100\n",
    "\n",
    "SO 1100 is refered to binary number number of 12 that is why the result is 12 "
   ]
  },
  {
   "cell_type": "markdown",
   "id": "3a484e8b-7c65-49a1-91f4-b8e58cf73e2e",
   "metadata": {},
   "source": [
    "# OR   |"
   ]
  },
  {
   "cell_type": "code",
   "execution_count": 16,
   "id": "dd8c48a6-fc73-44fc-bf17-5b052590cc60",
   "metadata": {},
   "outputs": [
    {
     "data": {
      "text/plain": [
       "13"
      ]
     },
     "execution_count": 16,
     "metadata": {},
     "output_type": "execute_result"
    }
   ],
   "source": [
    "12 | 13"
   ]
  },
  {
   "cell_type": "code",
   "execution_count": null,
   "id": "d979d0c8-0fe7-4a5c-925c-5d543c36e914",
   "metadata": {},
   "outputs": [],
   "source": [
    "The above output shows 12 as as a result, see the calculation below\n",
    "\n",
    "binary of 12 is           1100\n",
    "binary of 13 is           1101\n",
    "\n",
    "truth table (REF:OR)      1101\n",
    "\n",
    "SO 1101 is refered to binary number number of 13 that is why the result is 13"
   ]
  },
  {
   "cell_type": "markdown",
   "id": "92823567-99ad-48dd-b73a-d5e9a3c9d60b",
   "metadata": {},
   "source": [
    "# XOR ^"
   ]
  },
  {
   "attachments": {
    "50b48638-a56d-44f9-9588-753f1be069b5.png": {
     "image/png": "[encoded data removed]"
    }
   },
   "cell_type": "markdown",
   "id": "0222037e-ec2b-4f67-96ad-4855162206e1",
   "metadata": {},
   "source": [
    "![image.png](attachment:50b48638-a56d-44f9-9588-753f1be069b5.png)"
   ]
  },
  {
   "cell_type": "code",
   "execution_count": null,
   "id": "47343e83-a5b6-4fb6-9439-3b29a2f59d33",
   "metadata": {},
   "outputs": [],
   "source": [
    "1. The above table is refered to XOR"
   ]
  },
  {
   "cell_type": "code",
   "execution_count": 22,
   "id": "daca0cd8-62c9-4742-8b7e-97e1f51ec80c",
   "metadata": {},
   "outputs": [
    {
     "data": {
      "text/plain": [
       "1"
      ]
     },
     "execution_count": 22,
     "metadata": {},
     "output_type": "execute_result"
    }
   ],
   "source": [
    "12 ^ 13"
   ]
  },
  {
   "cell_type": "code",
   "execution_count": null,
   "id": "d91b83bd-f52a-4c2d-836d-d08207f0b89c",
   "metadata": {},
   "outputs": [],
   "source": [
    "The above output shows 1 as as a result, see the calculation below\n",
    "\n",
    "binary of 12 is           1100\n",
    "binary of 13 is           1101\n",
    "\n",
    "truth table (REF:XOR)     0001\n",
    "\n",
    " 0001 : (0*2^3)+(0*2^2)+(0*2^1)+(1*2^0)\n",
    "      :   0    +   0   +   0   +   1   = 1\n",
    "\n",
    "   \" Hence the result is 1\"\n"
   ]
  },
  {
   "cell_type": "code",
   "execution_count": 17,
   "id": "35d8ac49-2385-4a3b-b391-fff0e2501ff6",
   "metadata": {},
   "outputs": [
    {
     "name": "stdout",
     "output_type": "stream",
     "text": [
      "0b100011\n",
      "0b101000\n"
     ]
    }
   ],
   "source": [
    "print(bin(35))\n",
    "print(bin(40))\n"
   ]
  },
  {
   "cell_type": "code",
   "execution_count": 19,
   "id": "466de751-e9ed-4b30-9b4a-639bc565f8cf",
   "metadata": {},
   "outputs": [
    {
     "data": {
      "text/plain": [
       "32"
      ]
     },
     "execution_count": 19,
     "metadata": {},
     "output_type": "execute_result"
    }
   ],
   "source": [
    "35 & 40"
   ]
  },
  {
   "cell_type": "code",
   "execution_count": null,
   "id": "298e3576-88d3-463d-ad8d-0432107fa8e1",
   "metadata": {},
   "outputs": [],
   "source": [
    "the output shows as 32 see the calculation below\n",
    "\n",
    "binary of 35 is           100011\n",
    "binary of 40 is           101000\n",
    "\n",
    "truth table (REF:AND)     100000   \n",
    "\n",
    "\n",
    "100000 : (1*2^5)+(0*2^4)+(0*2^3)+(0*2^2)+(0*2^1)+(0*2^0)\n",
    "       :   32   +   0   +   0   +  0    +   0   +   0   = 32\n",
    "\n",
    "            \" Hence the result is 32\"\n"
   ]
  },
  {
   "cell_type": "code",
   "execution_count": 20,
   "id": "737c6b74-cee9-4151-9241-4d4993d075bb",
   "metadata": {},
   "outputs": [
    {
     "data": {
      "text/plain": [
       "43"
      ]
     },
     "execution_count": 20,
     "metadata": {},
     "output_type": "execute_result"
    }
   ],
   "source": [
    "35 | 40"
   ]
  },
  {
   "cell_type": "code",
   "execution_count": null,
   "id": "28179252-8e21-40a0-92ff-a206ec3de025",
   "metadata": {},
   "outputs": [],
   "source": [
    "the output shows as 43 see the calculation below\n",
    "\n",
    "binary of 35 is           100011\n",
    "binary of 40 is           101000\n",
    "\n",
    "truth table (REF:OR)      101011   \n",
    "\n",
    "\n",
    "101111 : (1*2^5)+(0*2^4)+(1*2^3)+(0*2^2)+(1*2^1)+(1*2^0)\n",
    "       :   32   +   0   +   8   +   0   +    2  +   1    = 43\n",
    "\n",
    "            \"Hence the result is 43\""
   ]
  },
  {
   "cell_type": "markdown",
   "id": "7f774377-b6bf-4c74-9ac6-0c0e3b24afbd",
   "metadata": {},
   "source": [
    "# LEFT SHIFT <<"
   ]
  },
  {
   "cell_type": "markdown",
   "id": "31264d01-28eb-4eb8-8232-1de66721479a",
   "metadata": {},
   "source": [
    "1. Left shift means we gain the bit "
   ]
  },
  {
   "cell_type": "code",
   "execution_count": 23,
   "id": "713ed414-9540-4c34-a0ef-94d9eb26f0ea",
   "metadata": {},
   "outputs": [
    {
     "data": {
      "text/plain": [
       "'0b1010'"
      ]
     },
     "execution_count": 23,
     "metadata": {},
     "output_type": "execute_result"
    }
   ],
   "source": [
    "bin(10)"
   ]
  },
  {
   "cell_type": "code",
   "execution_count": 25,
   "id": "afd77c92-3ebc-4504-9a8c-2251514813b2",
   "metadata": {},
   "outputs": [
    {
     "data": {
      "text/plain": [
       "20"
      ]
     },
     "execution_count": 25,
     "metadata": {},
     "output_type": "execute_result"
    }
   ],
   "source": [
    "10<<1 # this code refers  to 1 bit (after symbol)"
   ]
  },
  {
   "cell_type": "code",
   "execution_count": null,
   "id": "7306b848-ee33-4953-8059-84310d79996c",
   "metadata": {},
   "outputs": [],
   "source": [
    "The above codes says 10<<1 bit  it means\n",
    "we need to bring one zero in then it is 10100 \n",
    "\n",
    "10100 : (1*2^4)+(0*2^3)+(1*2^2)+(0*2^1)+(0*2^0)\n",
    "      :   16   +   0  +    4 +    0  +    0   = 20\n",
    "\n",
    "           \"Hence the result is 20\"\n"
   ]
  },
  {
   "cell_type": "code",
   "execution_count": 26,
   "id": "488755a8-a403-46fa-9fa7-6ece78dda71a",
   "metadata": {},
   "outputs": [
    {
     "data": {
      "text/plain": [
       "40"
      ]
     },
     "execution_count": 26,
     "metadata": {},
     "output_type": "execute_result"
    }
   ],
   "source": [
    "10<<2  # this code refers to 2 bit (after symbol)"
   ]
  },
  {
   "cell_type": "code",
   "execution_count": null,
   "id": "b8c5eed0-8a4c-4cfd-be04-3a4ce7b93f62",
   "metadata": {},
   "outputs": [],
   "source": [
    "The above codes says 10<<2 bit it means\n",
    "we need to bring two zero in the it is 101000 \n",
    "\n",
    "\n",
    "101000 : (1*2^5)+(0*2^4)+(1*2^3)+(1*2^2)+(0*2^1)+(0*2^0)\n",
    "       :   32  +   0   +   8   +    0  +    0  +   0   = 40\n",
    "\n",
    "           \"Hence the result is 40\""
   ]
  },
  {
   "cell_type": "markdown",
   "id": "e0dde79a-9a07-4475-89c5-7b44573b718f",
   "metadata": {},
   "source": [
    "# RIGHT SHIFT >>"
   ]
  },
  {
   "cell_type": "code",
   "execution_count": null,
   "id": "eafb0543-e95d-4293-94b4-2d89a8595f84",
   "metadata": {},
   "outputs": [],
   "source": [
    "1. Right shift means we loose the bit "
   ]
  },
  {
   "cell_type": "code",
   "execution_count": 27,
   "id": "698dd19c-4869-4e36-952f-081fa268d4d2",
   "metadata": {},
   "outputs": [
    {
     "data": {
      "text/plain": [
       "'0b1010'"
      ]
     },
     "execution_count": 27,
     "metadata": {},
     "output_type": "execute_result"
    }
   ],
   "source": [
    "bin(10)"
   ]
  },
  {
   "cell_type": "code",
   "execution_count": 28,
   "id": "8d0809e3-98c0-447c-96ce-8bcc4e8f2888",
   "metadata": {},
   "outputs": [
    {
     "data": {
      "text/plain": [
       "2"
      ]
     },
     "execution_count": 28,
     "metadata": {},
     "output_type": "execute_result"
    }
   ],
   "source": [
    "10>>2 # this code refers to 2 bit (after symbol)"
   ]
  },
  {
   "cell_type": "code",
   "execution_count": null,
   "id": "8e8c60be-6acf-4a7a-873a-9c92f91e0651",
   "metadata": {},
   "outputs": [],
   "source": [
    "The above codes says 10>>1 bit  it means\n",
    "we need to remove two numbers  then it is 10 \n",
    "\n",
    "10 : 1*2^1)+(0*2^0)\n",
    "   :   2   +   0   = 2\n",
    "\n",
    "           \"Hence the result is 2\"\n"
   ]
  },
  {
   "cell_type": "code",
   "execution_count": null,
   "id": "f2e76126-e504-4ab4-9065-14a25b4e947b",
   "metadata": {},
   "outputs": [],
   "source": []
  },
  {
   "cell_type": "code",
   "execution_count": null,
   "id": "41ba21ff-aa08-40f4-b28d-9282bab39d75",
   "metadata": {},
   "outputs": [],
   "source": []
  },
  {
   "cell_type": "code",
   "execution_count": null,
   "id": "fb7b4de8-d619-4089-bdf3-769bce5bd8ea",
   "metadata": {},
   "outputs": [],
   "source": []
  },
  {
   "cell_type": "code",
   "execution_count": null,
   "id": "bee4111d-e43a-42bf-99f7-90846d70cf20",
   "metadata": {},
   "outputs": [],
   "source": []
  },
  {
   "cell_type": "code",
   "execution_count": null,
   "id": "5c3e550d-a271-485c-9383-053cb135f61f",
   "metadata": {},
   "outputs": [],
   "source": []
  },
  {
   "cell_type": "code",
   "execution_count": null,
   "id": "8b912302-bea1-4670-a35d-7f2a73cda088",
   "metadata": {},
   "outputs": [],
   "source": []
  },
  {
   "cell_type": "code",
   "execution_count": null,
   "id": "06d228fb-4552-4672-b7ce-e408ce68ab43",
   "metadata": {},
   "outputs": [],
   "source": []
  }
 ],
 "metadata": {
  "kernelspec": {
   "display_name": "Python 3 (ipykernel)",
   "language": "python",
   "name": "python3"
  },
  "language_info": {
   "codemirror_mode": {
    "name": "ipython",
    "version": 3
   },
   "file_extension": ".py",
   "mimetype": "text/x-python",
   "name": "python",
   "nbconvert_exporter": "python",
   "pygments_lexer": "ipython3",
   "version": "3.12.4"
  }
 },
 "nbformat": 4,
 "nbformat_minor": 5
}
